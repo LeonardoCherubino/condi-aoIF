{
  "nbformat": 4,
  "nbformat_minor": 0,
  "metadata": {
    "colab": {
      "name": "CondiçãoIF.ipynb",
      "provenance": [],
      "authorship_tag": "ABX9TyN9RhONW5jCB59PGAM5EK/L",
      "include_colab_link": true
    },
    "kernelspec": {
      "name": "python3",
      "display_name": "Python 3"
    },
    "language_info": {
      "name": "python"
    }
  },
  "cells": [
    {
      "cell_type": "markdown",
      "metadata": {
        "id": "view-in-github",
        "colab_type": "text"
      },
      "source": [
        "<a href=\"https://colab.research.google.com/github/LeonardoCherubino/condi-aoIF/blob/main/Condi%C3%A7%C3%A3oIF.ipynb\" target=\"_parent\"><img src=\"https://colab.research.google.com/assets/colab-badge.svg\" alt=\"Open In Colab\"/></a>"
      ]
    },
    {
      "cell_type": "code",
      "execution_count": 6,
      "metadata": {
        "id": "hru_EbVsjRN7",
        "colab": {
          "base_uri": "https://localhost:8080/"
        },
        "outputId": "8e0a9d20-d664-4eab-fb92-5a31b3d25562"
      },
      "outputs": [
        {
          "output_type": "stream",
          "name": "stdout",
          "text": [
            "Batemos a meta de vendas de Iphone, vendemos 70000 unidade.\n"
          ]
        }
      ],
      "source": [
        "Meta = 50000\n",
        "QuantidadeVendida = 70000\n",
        "\n",
        "if QuantidadeVendida > Meta:\n",
        "\n",
        "  print('Batemos a meta de vendas de Iphone, vendemos {} unidade.'.format(QuantidadeVendida))\n",
        "\n",
        "else:\n",
        "  print('Não batemos a meta')\n",
        "\n"
      ]
    }
  ]
}