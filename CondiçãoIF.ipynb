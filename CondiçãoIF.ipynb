{
  "nbformat": 4,
  "nbformat_minor": 0,
  "metadata": {
    "colab": {
      "name": "CondiçãoIF.ipynb",
      "provenance": [],
      "authorship_tag": "ABX9TyOwYSE1BSMu8n2PTHO+Y1Y7",
      "include_colab_link": true
    },
    "kernelspec": {
      "name": "python3",
      "display_name": "Python 3"
    },
    "language_info": {
      "name": "python"
    }
  },
  "cells": [
    {
      "cell_type": "markdown",
      "metadata": {
        "id": "view-in-github",
        "colab_type": "text"
      },
      "source": [
        "<a href=\"https://colab.research.google.com/github/LeonardoCherubino/condi-aoIF/blob/main/Condi%C3%A7%C3%A3oIF.ipynb\" target=\"_parent\"><img src=\"https://colab.research.google.com/assets/colab-badge.svg\" alt=\"Open In Colab\"/></a>"
      ]
    },
    {
      "cell_type": "code",
      "execution_count": 9,
      "metadata": {
        "id": "hru_EbVsjRN7",
        "colab": {
          "base_uri": "https://localhost:8080/"
        },
        "outputId": "b2524f06-5241-4423-b309-4262b147007a"
      },
      "outputs": [
        {
          "output_type": "stream",
          "name": "stdout",
          "text": [
            "Não batemos a meta. A meta era 50000 unidades\n"
          ]
        }
      ],
      "source": [
        "Meta = 50000\n",
        "QuantidadeVendida = 10000\n",
        "\n",
        "if QuantidadeVendida > Meta:\n",
        "\n",
        "  print('Batemos a meta de vendas de Iphone, vendemos {} unidades.'.format(QuantidadeVendida))\n",
        "\n",
        "else:\n",
        "  print('Não batemos a meta. A meta era {} unidades'.format(Meta))\n",
        "\n"
      ]
    }
  ]
}